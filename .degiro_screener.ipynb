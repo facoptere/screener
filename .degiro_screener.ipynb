{
 "cells": [
  {
   "cell_type": "code",
   "execution_count": null,
   "id": "a4824ff5",
   "metadata": {},
   "outputs": [],
   "source": [
    "!pip install degiro_connector pandas scipy sqlitedict polars yfinance\n",
    "#!pip install selenium\n",
    "!pip install --upgrade lxml\n"
   ]
  },
  {
   "cell_type": "code",
   "execution_count": null,
   "id": "fdb7bec4-c372-4bdf-8892-6d6bc76bde63",
   "metadata": {
    "tags": []
   },
   "outputs": [],
   "source": [
    "from screener import Screener \n",
    "import logging\n",
    "import sys\n",
    "import pandas as pd\n",
    "\n",
    "pd.set_option(\"display.max_colwidth\", 40)\n",
    "pd.set_option(\"display.max_columns\", None)\n",
    "pd.set_option(\"display.max_rows\", None)\n",
    "pd.options.display.float_format = \"{:,.2f}\".format\n",
    "\n",
    "logfile = \"./outdegiro.log\"\n",
    "logging_level = logging.INFO\n",
    "logging.basicConfig(\n",
    "    level=logging_level,\n",
    "    handlers=[logging.FileHandler(logfile, mode=\"a\"), logging.StreamHandler(sys.stdout), ],\n",
    "    format=\"%(asctime)s - %(name)s:%(filename)s:%(funcName)s:%(lineno)d - %(levelname)s - %(message)s\",\n",
    "    datefmt=\"%Y-%m-%d %H:%M:%S\",\n",
    ")\n",
    "\n",
    "'''\n",
    "logging.getLogger(\"yfinance\").setLevel(logging.DEBUG)\n",
    "logging.getLogger(\"requests_cache\").setLevel(logging.DEBUG)\n",
    "logging.getLogger(\"cachedYahooApi\").setLevel(logging.DEBUG)\n",
    "\n",
    "main_logger = logging.getLogger()\n",
    "'''\n",
    "\n",
    "df = Screener(None, None, None, None)\n"
   ]
  },
  {
   "cell_type": "code",
   "execution_count": null,
   "id": "868718ce",
   "metadata": {},
   "outputs": [],
   "source": [
    "\n",
    "if df is not None:\n",
    "    QS = 80.0  # score loic\n",
    "    QSP = 95.0  # score loic + perf\n",
    "    REV = 5   # croissance revenu\n",
    "    MRG = 10   # marge\n",
    "    SLD = 0  # en solde de x%\n",
    "    LH = 1  # cours relatif entre le plus bas annuel et le plus haut [0,1]\n",
    "    YLD = 10  # rendement dividende+prix\n",
    "    PRX = 0   # croissance annuelle du prix de l'action, sans les dividendes\n",
    "    ddf = df.copy()\n",
    "    print(list(df.columns))\n",
    "     \n",
    "    ddf = ddf[\n",
    "        (ddf[\"qscore\"] >= QS)\n",
    "        & (ddf[\"qscorePerf\"] >= QSP)\n",
    "        & (ddf[\"REVPS5YGR\"] >= REV)\n",
    "        & (ddf[\"MARGIN5YR\"] >= MRG)\n",
    "        & (ddf[\"En Solde\"] >= SLD)\n",
    "        & (ddf[\"L%H\"] <= LH)\n",
    "        & (ddf[\"ChPctPrice5Y\"] >= PRX)\n",
    "        & (ddf[\"YLD+PRY\"] >= YLD)\n",
    "    \n",
    "    ]\n",
    "    \n",
    "    ddf = ddf.sort_values(\"scorePerf\", ascending=False)\n",
    "    \n",
    "    ddf = ddf[\n",
    "        [\n",
    "            \"VOL10DAVG\",\"MKTCAP.USD\",\"MKTCAP\", \"YSymbol\", \"isin\", \"name\", \"sector\", \"industry\", \"country\", \"score\", \"qscore\", \"scorePerf\", \"qscorePerf\", \"MKTCAP.USD\",\"qMKTCAP.USD\", \"MKTCAP\",\"priceCurrency\", \"REVPS5YGR\", \"MARGIN5YR\", \"PER\", \"Rendement\", \"En Solde\", \"L%H\", \"ChPctPrice5Y\", \"AROE5YAVG\", \"closePriceDate\",\n",
    "        ]\n",
    "    ]\n",
    "    \n",
    "    print(ddf.shape)\n",
    "    display(ddf)\n",
    "    \n",
    "    #ddf.to_csv(\"extrait.csv\", index=False, sep=str(\";\"), decimal=str(\",\"), encoding=\"utf-8-sig\", float_format=\"%.3f\", quoting=csv.QUOTE_MINIMAL)\n"
   ]
  }
 ],
 "metadata": {
  "kernelspec": {
   "display_name": "krn-screener",
   "language": "python",
   "name": "krn-screener"
  },
  "language_info": {
   "codemirror_mode": {
    "name": "ipython",
    "version": 3
   },
   "file_extension": ".py",
   "mimetype": "text/x-python",
   "name": "python",
   "nbconvert_exporter": "python",
   "pygments_lexer": "ipython3",
   "version": "3.13.7"
  },
  "varInspector": {
   "cols": {
    "lenName": 16,
    "lenType": 16,
    "lenVar": 40
   },
   "kernels_config": {
    "python": {
     "delete_cmd_postfix": "",
     "delete_cmd_prefix": "del ",
     "library": "var_list.py",
     "varRefreshCmd": "print(var_dic_list())"
    },
    "r": {
     "delete_cmd_postfix": ") ",
     "delete_cmd_prefix": "rm(",
     "library": "var_list.r",
     "varRefreshCmd": "cat(var_dic_list()) "
    }
   },
   "types_to_exclude": [
    "module",
    "function",
    "builtin_function_or_method",
    "instance",
    "_Feature"
   ],
   "window_display": false
  }
 },
 "nbformat": 4,
 "nbformat_minor": 5
}
