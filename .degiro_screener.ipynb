{
 "cells": [
  {
   "cell_type": "code",
   "execution_count": null,
   "id": "a4824ff5",
   "metadata": {},
   "outputs": [],
   "source": [
    "!pip install degiro_connector pandas scipy sqlitedict polars yfinance\n",
    "#!pip install selenium\n",
    "!pip install --upgrade lxml\n"
   ]
  },
  {
   "cell_type": "code",
   "execution_count": null,
   "id": "fdb7bec4-c372-4bdf-8892-6d6bc76bde63",
   "metadata": {
    "tags": []
   },
   "outputs": [],
   "source": [
    "from screener import Screener \n",
    "import logging\n",
    "import sys\n",
    "import pandas as pd\n",
    "\n",
    "pd.set_option(\"display.max_colwidth\", 40)\n",
    "pd.set_option(\"display.max_columns\", None)\n",
    "pd.set_option(\"display.max_rows\", None)\n",
    "pd.options.display.float_format = \"{:,.1f}\".format\n",
    "\n",
    "logfile = \"./outdegiro.log\"\n",
    "logging_level = logging.INFO\n",
    "logging.basicConfig(\n",
    "    level=logging_level,\n",
    "    handlers=[logging.FileHandler(logfile, mode=\"a\"), logging.StreamHandler(sys.stdout), ],\n",
    "    format=\"%(asctime)s - %(name)s:%(filename)s:%(funcName)s:%(lineno)d - %(levelname)s - %(message)s\",\n",
    "    datefmt=\"%Y-%m-%d %H:%M:%S\",\n",
    ")\n",
    "\n",
    "'''\n",
    "logging.getLogger(\"yfinance\").setLevel(logging.DEBUG)\n",
    "logging.getLogger(\"requests_cache\").setLevel(logging.DEBUG)\n",
    "logging.getLogger(\"cachedYahooApi\").setLevel(logging.DEBUG)\n",
    "\n",
    "main_logger = logging.getLogger()\n",
    "'''\n",
    "\n",
    "df = Screener(None, None, None, None)\n"
   ]
  },
  {
   "cell_type": "code",
   "execution_count": null,
   "id": "868718ce",
   "metadata": {},
   "outputs": [],
   "source": [
    "import csv\n",
    "\n",
    "if df is not None:\n",
    "    ddf = df.copy()\n",
    "     \n",
    "    QS = 80.0  # score loic\n",
    "    QSP = 90.0  # score loic + perf\n",
    "    REV = 3   # croissance revenu\n",
    "    EPS = 3   # croissance des profits nets\n",
    "    MRG = 7   # marge\n",
    "    SLD = 10  # en solde de x%\n",
    "    LH = 100  # cours relatif entre le plus bas annuel et le plus haut [0,1]\n",
    "    YLD = 10  # rendement dividende+prix\n",
    "    PRX = 0   # croissance annuelle du prix de l'action, sans les dividendes\n",
    "    MCAP = 5*10**7\n",
    "    \n",
    "    ddf = ddf[\n",
    "        (ddf[\"qscore\"] >= QS)\n",
    "        & (ddf[\"qscorePerf\"] >= QSP)\n",
    "        & (ddf[\"REVPS5YGR\"] >= REV)\n",
    "        & (ddf[\"MARGIN5YR\"] >= MRG)\n",
    "        & (ddf[\"En Solde\"] >= SLD)\n",
    "        & (ddf[\"L%H\"] <= LH)\n",
    "        & (ddf[\"ChPctPrice5Y\"] >= PRX)\n",
    "        & (ddf[\"YLD+PRY\"] >= YLD)\n",
    "        & (ddf[\"MKTCAP.USD\"] >= MCAP)\n",
    "    ]\n",
    "    \n",
    "    # Removing banks, freight, holdings and mines\n",
    "    ddf[\"keep\"] = 1\n",
    "    ddf.loc[(ddf[\"sector\"].str.contains(\"Financial\", case=False, regex=True) & ddf[\"industry\"].str.contains(\"(?:bank|investment)\", case=False, regex=True)), \"keep\"] = 0\n",
    "    ddf.loc[(ddf[\"sector\"].str.contains(\"Basic Materials\", case=False, regex=True) & ddf[\"industry\"].str.contains(\"Mining\", case=False, regex=True)), \"keep\"] = 0\n",
    "    ddf.loc[(ddf[\"sector\"].str.contains(\"Transportation\", case=False, regex=True) & ddf[\"industry\"].str.contains(\"Freight\", case=False, regex=True)), \"keep\"] = 0\n",
    "    ddf.loc[ddf[\"name\"].str.contains(\"holding\", case=False, regex=True), \"keep\"] = 0\n",
    "    ddf = ddf[ddf[\"keep\"] == 1]\n",
    "\n",
    "    ddf = ddf[\n",
    "        [\n",
    "            \"isin\", \"sector\", \"country\", \"name\", \"industry\", \"qscore\", \"qscorePerf\", \"REVPS5YGR\", \"EPSTRENDGR\", \"MARGIN5YR\", \"PER\",  \"En Solde\", \n",
    "            \"L%H\", \"%M200D\", \"ChPctPrice5Y\", \"Rendement\", \"qMKTCAP.USD\", \"VOL10DAVG\"\n",
    "        ]\n",
    "    ]\n",
    "    \n",
    "    print(ddf.shape)\n",
    "    display(ddf)\n",
    "    #print(ddf.dtypes, list(ddf.columns))\n",
    "    #ddf.to_csv(\"screener5.csv\", index=False, sep=str(\";\"), decimal=str(\",\"), encoding=\"utf-8-sig\", float_format=\"%.3f\", quoting=csv.QUOTE_MINIMAL)\n"
   ]
  }
 ],
 "metadata": {
  "kernelspec": {
   "display_name": "krn-screener",
   "language": "python",
   "name": "krn-screener"
  },
  "language_info": {
   "codemirror_mode": {
    "name": "ipython",
    "version": 3
   },
   "file_extension": ".py",
   "mimetype": "text/x-python",
   "name": "python",
   "nbconvert_exporter": "python",
   "pygments_lexer": "ipython3",
   "version": "3.13.7"
  },
  "varInspector": {
   "cols": {
    "lenName": 16,
    "lenType": 16,
    "lenVar": 40
   },
   "kernels_config": {
    "python": {
     "delete_cmd_postfix": "",
     "delete_cmd_prefix": "del ",
     "library": "var_list.py",
     "varRefreshCmd": "print(var_dic_list())"
    },
    "r": {
     "delete_cmd_postfix": ") ",
     "delete_cmd_prefix": "rm(",
     "library": "var_list.r",
     "varRefreshCmd": "cat(var_dic_list()) "
    }
   },
   "types_to_exclude": [
    "module",
    "function",
    "builtin_function_or_method",
    "instance",
    "_Feature"
   ],
   "window_display": false
  }
 },
 "nbformat": 4,
 "nbformat_minor": 5
}
